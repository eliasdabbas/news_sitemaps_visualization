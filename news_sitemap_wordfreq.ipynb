{
 "cells": [
  {
   "cell_type": "code",
   "execution_count": 1,
   "id": "c462c14d-562e-4149-9803-bea62605af09",
   "metadata": {
    "execution": {
     "iopub.execute_input": "2022-03-15T23:44:18.027279Z",
     "iopub.status.busy": "2022-03-15T23:44:18.026683Z",
     "iopub.status.idle": "2022-03-15T23:44:18.936457Z",
     "shell.execute_reply": "2022-03-15T23:44:18.935934Z",
     "shell.execute_reply.started": "2022-03-15T23:44:18.027206Z"
    },
    "tags": []
   },
   "outputs": [],
   "source": [
    "import datetime\n",
    "from urllib.parse import urlsplit\n",
    "\n",
    "import advertools as adv\n",
    "import pandas as pd\n",
    "import plotly\n",
    "import plotly.express as px\n",
    "\n",
    "import warnings\n",
    "warnings.filterwarnings('ignore')\n",
    "pd.options.display.max_columns = None"
   ]
  },
  {
   "cell_type": "code",
   "execution_count": 2,
   "id": "133dc3f8-79f4-42f1-a571-67f7cf00e7fe",
   "metadata": {
    "execution": {
     "iopub.execute_input": "2022-03-15T23:44:18.937402Z",
     "iopub.status.busy": "2022-03-15T23:44:18.937273Z",
     "iopub.status.idle": "2022-03-15T23:44:18.947465Z",
     "shell.execute_reply": "2022-03-15T23:44:18.946493Z",
     "shell.execute_reply.started": "2022-03-15T23:44:18.937387Z"
    },
    "tags": []
   },
   "outputs": [],
   "source": [
    "sitemap_filterfunc = [\n",
    "    ('https://www.ft.com/sitemaps/news.xml',  lambda x: x),\n",
    "    ('https://www.nytimes.com/sitemaps/new/news.xml.gz', \n",
    "     lambda df: df[df['loc'].str.contains('/2022/')]),\n",
    "    ('https://www.bbc.com/sitemaps/https-index-com-news.xml',\n",
    "     lambda df: df[df['publication_name'].eq('BBC News')]),\n",
    "    ('https://www.economist.com/googlenews.xml', lambda x: x),\n",
    "    ('https://www.bloomberg.com/feeds/bbiz/sitemap_news.xml', lambda x: x),\n",
    "    ('https://news.sky.com/sitemap/sitemap-news.xml', lambda x: x),\n",
    "    ('https://www.washingtonpost.com/arcio/news-sitemap/', lambda x: x),\n",
    "    ('https://www.foxnews.com/sitemap.xml?type=news', lambda x: x),\n",
    "    ('https://www.reuters.com/arc/outboundfeeds/news-sitemap-index/?outputType=xml', lambda x: x),\n",
    "    ('https://www.cnbc.com/sitemap_news.xml', lambda x: x),\n",
    "    # ('https://news.yahoo.com/sitemaps/news-sitemap_googlenewsindex_US_en-US.xml.gz', lambda x: x),\n",
    "]\n",
    "\n",
    "sitemap_filterfunc_df = pd.DataFrame(sitemap_filterfunc, \n",
    "                                     columns=['sitemap', 'filter_func'])\n",
    "sitemap_filterfunc_df['netloc'] = [urlsplit(u).netloc for u in sitemap_filterfunc_df['sitemap']]\n",
    "\n",
    "stopwords = ['to', 'of', 'the', 'in', 'for', 'and', 'on', 'a', 'as', 'with',\n",
    "             'from', 'over', 'is', 'at', '—', '-', 'be', '2022', '–', 'it', 'by',\n",
    "             'we', 'why', 'but', 'my', 'how', 'not', 'an', 'are', 'no', 'go',\n",
    "             'your', 'up', 'his', 'its', 'this', 'says', 'can', 'if', 'you',\n",
    "             'will']\n",
    "\n",
    "now_raw = datetime.datetime.utcnow()\n",
    "now = datetime.datetime.strftime(now_raw, '%d %b, %Y')"
   ]
  },
  {
   "cell_type": "code",
   "execution_count": 3,
   "id": "3d37572f-609f-4862-94c2-27572c9ff2dd",
   "metadata": {
    "execution": {
     "iopub.execute_input": "2022-03-15T23:44:18.949035Z",
     "iopub.status.busy": "2022-03-15T23:44:18.948772Z",
     "iopub.status.idle": "2022-03-15T23:44:25.274875Z",
     "shell.execute_reply": "2022-03-15T23:44:25.274238Z",
     "shell.execute_reply.started": "2022-03-15T23:44:18.948996Z"
    },
    "tags": []
   },
   "outputs": [
    {
     "name": "stderr",
     "output_type": "stream",
     "text": [
      "2022-03-16 00:44:19,218 | INFO | sitemaps.py:536 | sitemap_to_df | Getting https://www.ft.com/sitemaps/news.xml\n",
      "2022-03-16 00:44:20,557 | INFO | sitemaps.py:536 | sitemap_to_df | Getting https://www.nytimes.com/sitemaps/new/news-4.xml.gz\n",
      "2022-03-16 00:44:20,634 | INFO | sitemaps.py:536 | sitemap_to_df | Getting https://www.nytimes.com/sitemaps/new/news-3.xml.gz\n",
      "2022-03-16 00:44:20,676 | INFO | sitemaps.py:536 | sitemap_to_df | Getting https://www.nytimes.com/sitemaps/new/news-2.xml.gz\n",
      "2022-03-16 00:44:20,713 | INFO | sitemaps.py:536 | sitemap_to_df | Getting https://www.nytimes.com/sitemaps/new/news-1.xml.gz\n",
      "2022-03-16 00:44:20,999 | INFO | sitemaps.py:536 | sitemap_to_df | Getting https://www.bbc.com/sitemaps/https-sitemap-com-news-3.xml\n",
      "2022-03-16 00:44:21,008 | INFO | sitemaps.py:536 | sitemap_to_df | Getting https://www.bbc.com/sitemaps/https-sitemap-com-news-5.xml\n",
      "2022-03-16 00:44:21,137 | INFO | sitemaps.py:536 | sitemap_to_df | Getting https://www.bbc.com/sitemaps/https-sitemap-com-news-2.xml\n",
      "2022-03-16 00:44:21,156 | INFO | sitemaps.py:536 | sitemap_to_df | Getting https://www.bbc.com/sitemaps/https-sitemap-com-news-1.xml\n",
      "2022-03-16 00:44:21,775 | INFO | sitemaps.py:536 | sitemap_to_df | Getting https://www.economist.com/googlenews.xml\n",
      "2022-03-16 00:44:21,956 | INFO | sitemaps.py:536 | sitemap_to_df | Getting https://www.bloomberg.com/feeds/bbiz/sitemap_news.xml\n",
      "2022-03-16 00:44:22,083 | INFO | sitemaps.py:536 | sitemap_to_df | Getting https://news.sky.com/sitemap/sitemap-news.xml\n",
      "2022-03-16 00:44:22,639 | INFO | sitemaps.py:536 | sitemap_to_df | Getting https://www.washingtonpost.com/arcio/news-sitemap/\n",
      "2022-03-16 00:44:22,797 | INFO | sitemaps.py:536 | sitemap_to_df | Getting https://www.foxnews.com/sitemap.xml?type=news\n",
      "2022-03-16 00:44:23,280 | INFO | sitemaps.py:536 | sitemap_to_df | Getting https://www.reuters.com/arc/outboundfeeds/news-sitemap/?outputType=xml\n",
      "2022-03-16 00:44:23,316 | INFO | sitemaps.py:536 | sitemap_to_df | Getting https://www.reuters.com/arc/outboundfeeds/news-sitemap/?outputType=xml&from=300\n",
      "2022-03-16 00:44:23,336 | INFO | sitemaps.py:536 | sitemap_to_df | Getting https://www.reuters.com/arc/outboundfeeds/news-sitemap/?outputType=xml&from=700\n",
      "2022-03-16 00:44:23,340 | INFO | sitemaps.py:536 | sitemap_to_df | Getting https://www.reuters.com/arc/outboundfeeds/news-sitemap/?outputType=xml&from=500\n",
      "2022-03-16 00:44:23,346 | INFO | sitemaps.py:536 | sitemap_to_df | Getting https://www.reuters.com/arc/outboundfeeds/news-sitemap/?outputType=xml&from=200\n",
      "2022-03-16 00:44:23,441 | INFO | sitemaps.py:536 | sitemap_to_df | Getting https://www.reuters.com/arc/outboundfeeds/news-sitemap/?outputType=xml&from=400\n",
      "2022-03-16 00:44:23,499 | INFO | sitemaps.py:536 | sitemap_to_df | Getting https://www.reuters.com/arc/outboundfeeds/news-sitemap/?outputType=xml&from=800\n",
      "2022-03-16 00:44:23,536 | INFO | sitemaps.py:536 | sitemap_to_df | Getting https://www.reuters.com/arc/outboundfeeds/news-sitemap/?outputType=xml&from=600\n",
      "2022-03-16 00:44:23,670 | INFO | sitemaps.py:536 | sitemap_to_df | Getting https://www.reuters.com/arc/outboundfeeds/news-sitemap/?outputType=xml&from=100\n",
      "2022-03-16 00:44:24,997 | INFO | sitemaps.py:536 | sitemap_to_df | Getting https://www.reuters.com/arc/outboundfeeds/news-sitemap/?outputType=xml&from=900\n",
      "2022-03-16 00:44:25,258 | INFO | sitemaps.py:536 | sitemap_to_df | Getting https://www.cnbc.com/sitemap_news.xml\n"
     ]
    }
   ],
   "source": [
    "sitemapdfs = []\n",
    "\n",
    "for sitemap in sitemap_filterfunc_df['sitemap']:\n",
    "    df = adv.sitemap_to_df(sitemap)\n",
    "    sitemapdfs.append(df)"
   ]
  },
  {
   "cell_type": "code",
   "execution_count": 4,
   "id": "35bbee08-c5d7-4774-9daf-8d31289ba2c3",
   "metadata": {
    "execution": {
     "iopub.execute_input": "2022-03-15T23:44:25.277658Z",
     "iopub.status.busy": "2022-03-15T23:44:25.277409Z",
     "iopub.status.idle": "2022-03-15T23:44:25.307116Z",
     "shell.execute_reply": "2022-03-15T23:44:25.306518Z",
     "shell.execute_reply.started": "2022-03-15T23:44:25.277634Z"
    },
    "tags": []
   },
   "outputs": [],
   "source": [
    "sitemapdfs_concat = pd.concat(sitemapdfs, ignore_index=True)\n",
    "sitemapdfs_concat['netloc'] = [urlsplit(u).netloc for u in sitemapdfs_concat['sitemap']]"
   ]
  },
  {
   "cell_type": "code",
   "execution_count": 5,
   "id": "7ee31ad8-4660-46f2-a0e6-1c6d8d8dbff1",
   "metadata": {
    "execution": {
     "iopub.execute_input": "2022-03-15T23:44:25.307998Z",
     "iopub.status.busy": "2022-03-15T23:44:25.307846Z",
     "iopub.status.idle": "2022-03-15T23:44:25.322484Z",
     "shell.execute_reply": "2022-03-15T23:44:25.321794Z",
     "shell.execute_reply.started": "2022-03-15T23:44:25.307978Z"
    },
    "tags": []
   },
   "outputs": [],
   "source": [
    "all_sitemapdfs = pd.merge(sitemapdfs_concat, sitemap_filterfunc_df,\n",
    "                          left_on='netloc', right_on='netloc', how='left')"
   ]
  },
  {
   "cell_type": "code",
   "execution_count": 6,
   "id": "526d95e9-9ef4-4c08-9c92-aa364b9d02fd",
   "metadata": {
    "execution": {
     "iopub.execute_input": "2022-03-15T23:44:25.323785Z",
     "iopub.status.busy": "2022-03-15T23:44:25.323484Z",
     "iopub.status.idle": "2022-03-15T23:44:25.329732Z",
     "shell.execute_reply": "2022-03-15T23:44:25.328990Z",
     "shell.execute_reply.started": "2022-03-15T23:44:25.323757Z"
    },
    "tags": []
   },
   "outputs": [],
   "source": [
    "def news_sitemap_wordcount(news_sitemap, phrase_len=1, showtop=20,\n",
    "                           filter_func=lambda df: df):\n",
    "    news_sitemap = filter_func(news_sitemap)\n",
    "    title = adv.word_frequency(news_sitemap['news_title'],\n",
    "                               rm_words=stopwords,\n",
    "                               phrase_len=phrase_len)\n",
    "    title = title.rename(columns={'abs_freq': 'count'})\n",
    "    now_raw = datetime.datetime.utcnow()\n",
    "    now = datetime.datetime.strftime(now_raw, '%d %b, %Y')\n",
    "    return title[:showtop]\n",
    "\n",
    "def plot_word_counts(df, name, num_articles):\n",
    "    fig = px.bar(df[::-1], x='count', y='word', orientation='h',\n",
    "                 # color_discrete_sequence=['#416649'],\n",
    "                 height=600, width=450, hover_name='word',\n",
    "                 title=f'<b>{name}</b> - ({num_articles} articles)',\n",
    "                 template='none')\n",
    "    fig.layout.margin.l = 150\n",
    "    fig.layout.xaxis.zeroline = False\n",
    "    return fig"
   ]
  },
  {
   "cell_type": "code",
   "execution_count": 7,
   "id": "eb567225-0312-4aec-b6cb-f143518aae12",
   "metadata": {
    "execution": {
     "iopub.execute_input": "2022-03-15T23:44:25.331099Z",
     "iopub.status.busy": "2022-03-15T23:44:25.330843Z",
     "iopub.status.idle": "2022-03-15T23:44:25.935223Z",
     "shell.execute_reply": "2022-03-15T23:44:25.934687Z",
     "shell.execute_reply.started": "2022-03-15T23:44:25.331077Z"
    },
    "tags": []
   },
   "outputs": [],
   "source": [
    "included_publications = [\n",
    "    'Financial Times',\n",
    "    'The New York Times',\n",
    "    'BBC News',\n",
    "    'The Economist',\n",
    "    'Bloomberg',\n",
    "    'Sky News',\n",
    "    'Washington Post',\n",
    "    'Fox News',\n",
    "    'Reuters',\n",
    "    'CNBC',\n",
    "    # 'Yahoo News',\n",
    "]\n",
    "\n",
    "figures = []\n",
    "barcolors = plotly.colors.qualitative.T10 + ['#BAB0AC']\n",
    "count = -1\n",
    "for pub in all_sitemapdfs['publication_name'].unique():\n",
    "    if pub in included_publications:\n",
    "        count += 1\n",
    "\n",
    "        for ngram in [1, 2]:\n",
    "            temp_df = all_sitemapdfs[all_sitemapdfs['publication_name'].eq(pub)]\n",
    "            filter_func = temp_df['filter_func'].iloc[0]\n",
    "            wordcount_df = news_sitemap_wordcount(\n",
    "                temp_df,\n",
    "                phrase_len=ngram,\n",
    "                filter_func=filter_func if not isinstance(filter_func, float) else lambda x: x)\n",
    "            fig = plot_word_counts(wordcount_df,\n",
    "                                   num_articles=len(temp_df),\n",
    "                                   name=temp_df['publication_name'].iloc[0])\n",
    "            fig.data[0].marker.color=barcolors[count]\n",
    "            fig.layout.title.font.color = '#416649'\n",
    "            figures.append(fig)\n"
   ]
  },
  {
   "cell_type": "code",
   "execution_count": 8,
   "id": "98251bea-2e29-491e-b384-12cdd9813ca3",
   "metadata": {
    "execution": {
     "iopub.execute_input": "2022-03-15T23:44:25.936744Z",
     "iopub.status.busy": "2022-03-15T23:44:25.936278Z",
     "iopub.status.idle": "2022-03-15T23:44:26.102452Z",
     "shell.execute_reply": "2022-03-15T23:44:26.101926Z",
     "shell.execute_reply.started": "2022-03-15T23:44:25.936727Z"
    },
    "tags": []
   },
   "outputs": [],
   "source": [
    "from plotly.subplots import make_subplots\n",
    "fig = make_subplots(rows=5, cols=4, vertical_spacing=0.04, horizontal_spacing=0.08,\n",
    "                    subplot_titles=[f.layout.title.text for f in figures])\n",
    "\n",
    "index = 0\n",
    "for i in range(1, 6):\n",
    "    for j in range(4):\n",
    "        fig.add_trace(trace=figures[index].data[0], row=i, col=j+1)\n",
    "        index += 1"
   ]
  },
  {
   "cell_type": "code",
   "execution_count": 10,
   "id": "30ce4015-77e0-4612-9581-13efc1b4be6c",
   "metadata": {
    "execution": {
     "iopub.execute_input": "2022-03-15T23:46:32.136549Z",
     "iopub.status.busy": "2022-03-15T23:46:32.136269Z",
     "iopub.status.idle": "2022-03-15T23:46:32.168531Z",
     "shell.execute_reply": "2022-03-15T23:46:32.167877Z",
     "shell.execute_reply.started": "2022-03-15T23:46:32.136524Z"
    },
    "tags": []
   },
   "outputs": [],
   "source": [
    "num_articles = all_sitemapdfs[all_sitemapdfs['publication_name'].isin(included_publications)].shape[0]\n",
    "fig.layout.height = 2600\n",
    "fig.layout.template = 'gridon'\n",
    "fig.layout.margin.l = 100\n",
    "fig.layout.margin.t = 200\n",
    "fig.layout.title = f'<b>Most used words in article headlines 1- & 2-grams<b><br>{now} ({num_articles:,} articles)<br><br>'\n",
    "fig.write_html('/Users/me/Desktop/temp/newsfig.html', config={'displayModeBar': False})"
   ]
  }
 ],
 "metadata": {
  "kernelspec": {
   "display_name": "Python 3 (ipykernel)",
   "language": "python",
   "name": "python3"
  },
  "language_info": {
   "codemirror_mode": {
    "name": "ipython",
    "version": 3
   },
   "file_extension": ".py",
   "mimetype": "text/x-python",
   "name": "python",
   "nbconvert_exporter": "python",
   "pygments_lexer": "ipython3",
   "version": "3.10.1"
  }
 },
 "nbformat": 4,
 "nbformat_minor": 5
}
